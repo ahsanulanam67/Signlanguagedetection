{
 "cells": [
  {
   "cell_type": "code",
   "execution_count": 1,
   "id": "900a4b46-acb8-438e-99a4-58a30c13890a",
   "metadata": {},
   "outputs": [
    {
     "name": "stdin",
     "output_type": "stream",
     "text": [
      "🏷️ Enter the label for the hand gesture:  N\n"
     ]
    },
    {
     "name": "stdout",
     "output_type": "stream",
     "text": [
      "\n",
      "📸 Starting capture for 'N' — total: 3000 hand-only images.\n",
      "\n",
      "✅ Done! 3000 hand images saved in: hand_dataset\\N\n"
     ]
    }
   ],
   "source": [
    "import cv2\n",
    "import os\n",
    "import time\n",
    "import mediapipe as mp\n",
    "\n",
    "# Setup Mediapipe\n",
    "mp_hands = mp.solutions.hands\n",
    "hands = mp_hands.Hands(static_image_mode=False, max_num_hands=1, min_detection_confidence=0.7)\n",
    "mp_drawing = mp.solutions.drawing_utils\n",
    "\n",
    "# User input\n",
    "label = input(\"🏷️ Enter the label for the hand gesture: \").strip()\n",
    "save_dir = os.path.join(\"hand_dataset\", label)\n",
    "os.makedirs(save_dir, exist_ok=True)\n",
    "\n",
    "total_images = 3000\n",
    "image_size = (200, 200)\n",
    "count = 0\n",
    "\n",
    "# Webcam setup\n",
    "cap = cv2.VideoCapture(1)\n",
    "if not cap.isOpened():\n",
    "    print(\"❌ Cannot access camera.\")\n",
    "    exit()\n",
    "\n",
    "print(f\"\\n📸 Starting capture for '{label}' — total: {total_images} hand-only images.\")\n",
    "\n",
    "while count < total_images:\n",
    "    success, frame = cap.read()\n",
    "    if not success:\n",
    "        print(\"❌ Failed to capture frame.\")\n",
    "        break\n",
    "\n",
    "    frame = cv2.flip(frame, 1)\n",
    "    h, w, _ = frame.shape\n",
    "\n",
    "    rgb_frame = cv2.cvtColor(frame, cv2.COLOR_BGR2RGB)\n",
    "    results = hands.process(rgb_frame)\n",
    "\n",
    "    if results.multi_hand_landmarks:\n",
    "        for hand_landmarks in results.multi_hand_landmarks:\n",
    "            # Get bounding box of hand\n",
    "            x_coords = [lm.x for lm in hand_landmarks.landmark]\n",
    "            y_coords = [lm.y for lm in hand_landmarks.landmark]\n",
    "            x_min = int(min(x_coords) * w) - 20\n",
    "            x_max = int(max(x_coords) * w) + 20\n",
    "            y_min = int(min(y_coords) * h) - 20\n",
    "            y_max = int(max(y_coords) * h) + 20\n",
    "\n",
    "            x_min = max(0, x_min)\n",
    "            y_min = max(0, y_min)\n",
    "            x_max = min(w, x_max)\n",
    "            y_max = min(h, y_max)\n",
    "\n",
    "            # Crop and resize\n",
    "            hand_crop = frame[y_min:y_max, x_min:x_max]\n",
    "            if hand_crop.size == 0:\n",
    "                continue\n",
    "            resized_hand = cv2.resize(hand_crop, image_size)\n",
    "\n",
    "            # Save image\n",
    "            filename = f\"{label}_{count+1:04d}.jpg\"\n",
    "            filepath = os.path.join(save_dir, filename)\n",
    "            cv2.imwrite(filepath, resized_hand)\n",
    "            count += 1\n",
    "\n",
    "            # Show for feedback\n",
    "            cv2.putText(frame, f'{label}: {count}/{total_images}', (10, 30),\n",
    "                        cv2.FONT_HERSHEY_SIMPLEX, 0.9, (0, 255, 0), 2)\n",
    "            cv2.rectangle(frame, (x_min, y_min), (x_max, y_max), (255, 0, 0), 2)\n",
    "            cv2.imshow('Hand Capture (Just Hand)', frame)\n",
    "\n",
    "    else:\n",
    "        cv2.putText(frame, '✋ Show your hand clearly', (10, 30),\n",
    "                    cv2.FONT_HERSHEY_SIMPLEX, 0.8, (0, 0, 255), 2)\n",
    "        cv2.imshow('Hand Capture (Just Hand)', frame)\n",
    "\n",
    "    # Wait or break\n",
    "    key = cv2.waitKey(1)\n",
    "    if key & 0xFF == ord('q'):\n",
    "        print(\"🛑 Quit requested.\")\n",
    "        break\n",
    "\n",
    "print(f\"\\n✅ Done! {count} hand images saved in: {save_dir}\")\n",
    "cap.release()\n",
    "cv2.destroyAllWindows()\n"
   ]
  },
  {
   "cell_type": "code",
   "execution_count": null,
   "id": "cb47b3cf-c156-436a-a0ca-be36fcb05ab6",
   "metadata": {},
   "outputs": [],
   "source": []
  }
 ],
 "metadata": {
  "kernelspec": {
   "display_name": "Python 3 (ipykernel)",
   "language": "python",
   "name": "python3"
  },
  "language_info": {
   "codemirror_mode": {
    "name": "ipython",
    "version": 3
   },
   "file_extension": ".py",
   "mimetype": "text/x-python",
   "name": "python",
   "nbconvert_exporter": "python",
   "pygments_lexer": "ipython3",
   "version": "3.12.7"
  }
 },
 "nbformat": 4,
 "nbformat_minor": 5
}
